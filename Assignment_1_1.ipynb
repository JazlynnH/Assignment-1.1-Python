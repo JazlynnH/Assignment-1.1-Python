{
    "cells": [
     {
      "cell_type": "code",
      "execution_count": null,
      "id": "d9f6fbf6",
      "metadata": {},
      "outputs": [],
      "source": [
       "# Question 1\n",
       "numbers = [10, 20, 30, 40, 50]  # This creates a list of integers\n",
       "squared_numbers = [number ** 2 for number in numbers]  # Creating a new list with the square of each number in the original list\n",
       "print(squared_numbers)  # Print the new list of squared numbers\n",
       "\n",
       "# Question 2\n",
       "person = (\"Jazlynn Henry\", 18, \"Student\")  \n",
       "name, age, profession = person  # Unpack the tuple into three separate variables\n",
       "print(name)  # Print the name\n",
       "print(age)  # Print the age\n",
       "print(profession)  # Print the profession\n",
       "\n",
       "# Question 3\n",
       "squares = [number ** 2 for number in range(1, 21) if number % 2 == 0]  # Create a new list containing the square of even numbers in range from 1 to 20\n",
       "print(squares)  # Print the new list of squared even numbers\n",
       "\n",
       "# Question 4\n",
       "def group_even_odd(numbers):  # Define the function that takes a list of numbers as input\n",
       "    even_numbers = [number for number in numbers if number % 2 == 0]  # Create a new list with only the even numbers from the input list\n",
       "    odd_numbers = [number for number in numbers if number % 2 != 0]  # Create a new list with only the odd numbers from the input list\n",
       "    return even_numbers, odd_numbers  # Return two lists, one with the even numbers and one containing the odd numbers\n",
       "\n",
       "even_numbers, odd_numbers = group_even_odd([1, 2, 3, 4, 5, 6])  # Call the function with a list of integers and assign the returned lists to two variables\n",
       "print(\"Even numbers:\", even_numbers)  # Print the list of even numbers\n",
       "print(\"Odd numbers:\", odd_numbers)  # Print the list of odd numbers\n",
       "\n",
       "# Question 5\n",
       "first_name = [\"John\", \"Jane\", \"Patrick\"]  # Create a list of first names\n",
       "last_name = [\"Doe\", \"Smith\", \"Star\"]  # Create a list of last names\n",
       "full_names = [first_name[i] + \" \" + last_name[i] for i in range(len(first_name))]  # Create a new list with the full names\n",
       "print(full_names)  # Print the new list of full names\n",
       "\n",
       "# This allows better comprehension to create a list of full names that incorporate both first and last names\n",
       "full_names = [f\"{first} {last}\" for first, last in zip(first_name, last_name)]  # Create a new list with the full names by using list comprehension and the zip function\n",
       "\n",
       "# Print the result\n",
       "print(\"Full Names:\", full_names)  # Print the new list of full names"
      ]
     }
    ],
    "metadata": {
     "kernelspec": {
      "display_name": "Python 3",
      "language": "python",
      "name": "python3"
     },
     "language_info": {
      "codemirror_mode": {
       "name": "ipython",
       "version": 3
      },
      "file_extension": ".py",
      "mimetype": "text/x-python",
      "name": "python",
      "nbconvert_exporter": "python",
      "pygments_lexer": "ipython3",
      "version": "3.9.7"
     }
    },
    "nbformat": 4,
    "nbformat_minor": 5
   }
   
