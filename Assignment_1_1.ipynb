# Question 1
numbers = [10, 20, 30, 40, 50]  # This creates a list of integers
squared_numbers = [number ** 2 for number in numbers]  # Creating a new list with the square of each number in the original list
print(squared_numbers)  # Print the new list of squared numbers

# Question 2
person = ("Jazlynn Henry", 18, "Student")  
name, age, profession = person  # Unpack the tuple into three separate variables
print(name)  # Print the name
print(age)  # Print the age
print(profession)  # Print the profession

# Question 3
squares = [number ** 2 for number in range(1, 21) if number % 2 == 0]  # Create a new list containing the square of even numbers in range from 1 to 20
print(squares)  # Print the new list of squared even numbers

# Question 4
def group_even_odd(numbers):  # Define the function that takes a list of numbers as input
    even_numbers = [number for number in numbers if number % 2 == 0]  # Create a new list with only the even numbers from the input list
    odd_numbers = [number for number in numbers if number % 2 != 0]  # Create a new list with only the odd numbers from the input list
    return even_numbers, odd_numbers  # Return two lists, one with the even numbers and one containing the odd numbers

even_numbers, odd_numbers = group_even_odd([1, 2, 3, 4, 5, 6])  # Call the function with a list of integers and assign the returned lists to two variables
print("Even numbers:", even_numbers)  # Print the list of even numbers
print("Odd numbers:", odd_numbers)  # Print the list of odd numbers

# Question 5
first_name = ["John", "Jane", "Patrick"]  # Create a list of first names
last_name = ["Doe", "Smith", "Star"]  # Create a list of last names
full_names = [first_name[i] + " " + last_name[i] for i in range(len(first_name))]  # Create a new list with the full names
print(full_names)  # Print the new list of full names

# This allows better comprehension to create a list of full names that incorporate both first and last names
full_names = [f"{first} {last}" for first, last in zip(first_name, last_name)]  # Create a new list with the full names by using list comprehension and the zip function

# Print the result
print("Full Names:", full_names)  # Print the new list of full names
