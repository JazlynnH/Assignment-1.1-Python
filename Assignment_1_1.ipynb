# Question 1
numbers = [10, 20, 30, 40, 50]
squared_numbers = [number ** 2 for number in numbers]
print(squared_numbers)

# Question 2
person = ("Jazlynn Henry", 18, "Student")
name, age, profession = person
print(name)
print(age)
print(profession)

# Question 3
squares = [number ** 2 for number in range(1, 21) if number % 2 == 0]
print(squares)

# Question 4
def group_even_odd(numbers):
    even_numbers = [number for number in numbers if number % 2 == 0]
    odd_numbers = [number for number in numbers if number % 2 != 0]
    return even_numbers, odd_numbers

even_numbers, odd_numbers = group_even_odd([1, 2, 3, 4, 5, 6])
print("Even numbers:", even_numbers)
print("Odd numbers:", odd_numbers)

# Question 5
first_name = ["John", "Jane", "Patrick"]
last_name = ["Doe", "Smith", "Star"]
full_names = [first_name[i] + " " + last_name[i] for i in range(len(first_name))]
print(full_names)

# List comprehension to create a list of full names by concatenating first and last names
full_names = [f"{first} {last}" for first, last in zip(first_name, last_name)]

# Print the result
print("Full Names:", full_names)
