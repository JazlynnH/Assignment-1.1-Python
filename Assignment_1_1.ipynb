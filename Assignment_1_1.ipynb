# 1. Create a new list squared_numbers that contains the square of each number in the original list.

# Original list of numbers
numbers = [10, 20, 30, 40, 50]

# List comprehension to create a new list with squares of each number
squared_numbers = [num ** 2 for num in numbers]

# Print the result
print("Squared Numbers:", squared_numbers)

# 2. Unpack the tuple person into three separate variables: name, age, and profession.

# Tuple with person information
person = ("Adam Smith", 35, "Software Engineer")

# Unpacking the tuple into separate variables
name, age, profession = person

# Print the results
print("Name:", name)
print("Age:", age)
print("Profession:", profession)

# 3. Create a list squares that contains the squares of all the even numbers in the range 1 to 20 (inclusive).

# List comprehension to create a list of squares of even numbers from 1 to 20
squares = [num ** 2 for num in range(1, 21) if num % 2 == 0]

# Print the result
print("Squares of Even Numbers:", squares)

# 4. Write a function to group a list of integers into two lists: one containing even numbers and the other containing odd numbers.

def group_numbers(numbers):
    evens = [num for num in numbers if num % 2 == 0]
    odds = [num for num in numbers if num % 2 != 0]
    return evens, odds

# Example usage
numbers = [1, 2, 3, 4, 5, 6, 7, 8, 9, 10]
evens, odds = group_numbers(numbers)

# Print the results
print("Evens:", evens)
print("Odds:", odds)

# 5. Create a new list full_names that contains the full names by concatenating the corresponding elements from first_name and last_name.

# Lists of first and last names
first_name = ["Adam", "Jane", "Bob"]
last_name = ["Johnson", "Smith", "Jones"]

# List comprehension to create a list of full names by concatenating first and last names
full_names = [f"{first} {last}" for first, last in zip(first_name, last_name)]

# Print the result
print("Full Names:", full_names)