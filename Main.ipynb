{
    "cells": [
     {
      "cell_type": "markdown",
      "metadata": {},
      "source": [
       "# Assignment 1.1: Get started with coding in Python"
      ]
     },
     {
      "cell_type": "markdown",
      "metadata": {},
      "source": [
       "## 1. Create a new list squared_numbers that contains the square of each number in the original list."
      ]
     },
     {
      "cell_type": "code",
      "execution_count": null,
      "metadata": {},
      "outputs": [],
      "source": [
       "# Original list of numbers\n",
       "numbers = [10, 20, 30, 40, 50]\n",
       "\n",
       "# List comprehension to create a new list with squares of each number\n",
       "squared_numbers = [num ** 2 for num in numbers]\n",
       "\n",
       "# Print the result\n",
       "print(\"Squared Numbers:\", squared_numbers)"
      ]
     },
     {
      "cell_type": "markdown",
      "metadata": {},
      "source": [
       "## 2. Unpack the tuple person into three separate variables: name, age, and profession."
      ]
     },
     {
      "cell_type": "code",
      "execution_count": null,
      "metadata": {},
      "outputs": [],
      "source": [
       "# Tuple with person information\n",
       "person = (\"Jazlynn Henry\", 18, \"Student\")\n",
       "\n",
       "# Unpacking the tuple into separate variables\n",
       "name, age, profession = person\n",
       "\n",
       "# Print the results\n",
       "print(\"Name:\", name)\n",
       "print(\"Age:\", age)\n",
       "print(\"Profession:\", profession)"
      ]
     },
     {
      "cell_type": "markdown",
      "metadata": {},
      "source": [
       "## 3. Create a list squares that contains the squares of all the even numbers in the range 1 to 20 (inclusive)."
      ]
     },
     {
      "cell_type": "code",
      "execution_count": null,
      "metadata": {},
      "outputs": [],
      "source": [
       "# List comprehension to create a list of squares of even numbers from 1 to 20\n",
       "squares = [num ** 2 for num in range(1, 21) if num % 2 == 0]\n",
       "\n",
       "# Print the result\n",
       "print(\"Squares of Even Numbers:\", squares)"
      ]
     },
     {
      "cell_type": "markdown",
      "metadata": {},
      "source": [
       "## 4. Write a function to group a list of integers into two lists: one containing even numbers and the other containing odd numbers."
      ]
     },
     {
      "cell_type": "code",
      "execution_count": null,
      "metadata": {},
      "outputs": [],
      "source": [
       "def group_numbers(numbers):\n",
       "    evens = [num for num in numbers if num % 2 == 0]\n",
       "    odds = [num for num in numbers if num % 2 != 0]\n",
       "    return evens, odds\n",
       "\n",
       "# Example usage\n",
       "numbers = [1, 2, 3, 4, 5, 6, 7, 8, 9, 10]\n",
       "evens, odds = group_numbers(numbers)\n",
       "\n",
       "# Print the results\n",
       "print(\"Evens:\", evens)\n",
       "print(\"Odds:\", odds)"
      ]
     },
     {
      "cell_type": "markdown",
      "metadata": {},
      "source": [
       "## 5. Create a new list full_names that contains the full names by concatenating the corresponding elements from first_name and last_name."
      ]
     },
     {
      "cell_type": "code",
      "execution_count": null,
      "metadata": {},
      "outputs": [],
      "source": [
       "# Lists of first and last names\n",
       "first_name = [\"Jazlynn\", \"Jane\", \"Bob\"]\n",
       "last_name = [\"Henry\", \"Smith\", \"Jones\"]\n",
       "\n",
       "# List comprehension to create a list of full names by concatenating first and last names\n",
       "full_names = [f\"{first} {last}\" for first, last in zip(first_name, last_name)]\n",
       "\n",
       "# Print the result\n",
       "print(\"Full Names:\", full_names)"
      ]
     }
    ],
    "metadata": {
     "kernelspec": {
      "display_name": "Python 3",
      "language": "python",
      "name": "python3"
     },
     "language_info": {
      "codemirror_mode": {
       "name": "ipython",
       "version": 3
      },
      "file_extension": ".py",
      "mimetype": "text/x-python",
      "name": "python",
      "nbconvert_exporter": "python",
      "pygments_lexer": "ipython3",
      "version": "3.8.8"
     }
    },
    "nbformat": 4,
    "nbformat_minor": 5
   }
