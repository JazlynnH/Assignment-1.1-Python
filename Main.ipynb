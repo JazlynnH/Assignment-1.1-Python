{
    "cells": [
     {
      "cell_type": "markdown",
      "metadata": {},
      "source": [
       "# Assignment 1.1: Get started with coding in Python"
      ]
     },
     {
      "cell_type": "markdown",
      "metadata": {},
      "source": [
       "## 1. Create a new list squared_numbers that contains the square of each number in the original list."
      ]
     },
     {
      "cell_type": "code",
      "execution_count": null,
      "metadata": {},
      "outputs": [],
      "source": [
       "# Original list of numbers\n",
       "numbers = [10, 20, 30, 40, 50]\n",
       "\n",
       "# List comprehension to create a new list with squares of each number\n",
       "squared_numbers = [num ** 2 for num in numbers]\n",
       "\n",
       "# Print the result\n",
       "print(\"Squared Numbers:\", squared_numbers)"
      ]
     },
     {
      "cell_type": "markdown",
      "metadata": {},
      "source": [
       "## 2. Unpack the tuple person into three separate variables: name, age, and profession."
      ]
     },
     {
      "cell_type": "code",
      "execution_count": null,
    },
    "nbformat": 4,
    "nbformat_minor": 5
   }
